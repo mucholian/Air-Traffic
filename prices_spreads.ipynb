{
 "cells": [
  {
   "cell_type": "markdown",
   "metadata": {},
   "source": [
    "### regional prices and timespreads"
   ]
  },
  {
   "cell_type": "code",
   "execution_count": 10,
   "metadata": {},
   "outputs": [],
   "source": [
    "##### this is it\n",
    "import pandas as pd\n",
    "import numpy as np\n",
    "import seaborn as sns\n",
    "import math\n",
    "import matplotlib\n",
    "import matplotlib.pyplot as plt\n",
    "import requests\n",
    "import sqlite3\n",
    "import datetime\n",
    "import time\n",
    "import os\n",
    "import json\n",
    "import ciso8601 #to parse datetime to timestamp and then string \n",
    "# import unirest\n",
    "from numpy import cos, sin, arcsin, sqrt\n",
    "from math import radians\n",
    "import http.client\n",
    "from dateutil.parser import parse\n",
    "# from geopy import distance"
   ]
  },
  {
   "cell_type": "code",
   "execution_count": 11,
   "metadata": {},
   "outputs": [],
   "source": [
    "start_year = 2015                   # Bloomberg data starts from 2011\n",
    "start_date = datetime.date(year=start_year,month=1,day=1)                       # start date for sending queries\n",
    "time_range = 7                      #days - for max query range for airports\n",
    "today = datetime.datetime.utcnow()  #database is based on UTC\n",
    "today = today.date()\n",
    "end_date = today                    # can be anything\n",
    "global_index = pd.date_range(start=start_date,end=end_date, freq='W-FRI')       # create weekly datetime_index ending this/\n",
    "# not including crude for this model at the moment\n",
    "# expiry calendar needs to be incorporated into the model\n",
    "# look at contango etc"
   ]
  },
  {
   "cell_type": "code",
   "execution_count": 12,
   "metadata": {
    "tags": []
   },
   "outputs": [],
   "source": [
    "## for bloomberg data\n",
    "# all the prices from bbg is in here\n",
    "bbg_all = pd.read_csv('bbg_weekly_all.csv',header=0,index_col=0)                # dates are in terrible format\n",
    "temp_index = bbg_all.index.to_list()                                        # need to fix the index to datetime\n",
    "dates_list = [datetime.datetime.strptime(x, '%m/%d/%Y') for x in temp_index]    # change every element from str to datetimeindex\n",
    "bbg_all['week_ending'] = pd.to_datetime(dates_list)\n",
    "bbg_all = bbg_all.set_index('week_ending')\n",
    "# now the selected prices tickers FOR MEa\n",
    "bbg_my = pd.read_csv('bloomberg_tickers.csv',index_col=0)       # this is the meta for all the tickers  # dates are in \n",
    "bbg_my_index = bbg_my.index.to_list()\n",
    "bbg_tix = bbg_all.columns.to_list()\n",
    "refrnce_df = pd.DataFrame(index=[bbg_my_index],columns=['long_name','short_name'])\n",
    "### SELECT THE SUBSET WITH MY TICKERS!! BUT INCLUDES CRUDE bbg_my_index\n",
    "MY_BBG = bbg_all[bbg_all.columns.intersection(bbg_my_index)]\n",
    "# aMY_BBG_1 = bbg_all[bbg_all.columns.intersection(bbg_my_index)]\n",
    "# JET \n",
    "LA_JET = 'FSLJM'\n",
    "GC_JET = 'FSGJM'\n",
    "NY_JET = 'FSNJM'\n",
    "# HO is the only disty. No data for LA and NY, oddly\n",
    "CMDTY = 'Comdty'\n",
    "#SPRD JET-DISTY\n",
    "LA_SPRD = 'FLJSM'\n",
    "GC_SPRD = 'FGJSM'\n",
    "NY_SPRD = 'FNJSM'"
   ]
  },
  {
   "cell_type": "code",
   "execution_count": 13,
   "metadata": {},
   "outputs": [],
   "source": [
    "###### JET #####\n",
    "# ny\n",
    "NY_JET = MY_BBG.filter(regex=NY_JET)\n",
    "NY_JET_cols = NY_JET.columns.to_list()\n",
    "NY_JET_COLS = ['NY_JET_1','NY_JET_2','NY_JET_3']\n",
    "NEW_NY = dict(zip(NY_JET_cols, NY_JET_COLS))\n",
    "NY_JET.rename(columns=NEW_NY,inplace=True)\n",
    "NY_JET['M1_M2'] = NY_JET['NY_JET_1'] - NY_JET['NY_JET_2']\n",
    "NY_JET['M1_M3'] = NY_JET['NY_JET_1'] - NY_JET['NY_JET_3']\n",
    "NY_JET['M2_M3'] = NY_JET['NY_JET_2'] - NY_JET['NY_JET_3']\n"
   ]
  },
  {
   "cell_type": "code",
   "execution_count": 14,
   "metadata": {},
   "outputs": [],
   "source": [
    "###### JET #####\n",
    "# gc\n",
    "GC_JET = MY_BBG.filter(regex=GC_JET)\n",
    "GC_JET_cols = GC_JET.columns.to_list()\n",
    "GC_JET_COLS = ['GC_JET_1','GC_JET_2','GC_JET_3']\n",
    "NEW_GC = dict(zip(GC_JET_cols, GC_JET_COLS))\n",
    "GC_JET.rename(columns=NEW_GC,inplace=True)\n",
    "GC_JET['M1_M2'] = GC_JET['GC_JET_1'] - GC_JET['GC_JET_2']\n",
    "GC_JET['M1_M3'] = GC_JET['GC_JET_1'] - GC_JET['GC_JET_3']\n",
    "GC_JET['M2_M3'] = GC_JET['GC_JET_2'] - GC_JET['GC_JET_3']"
   ]
  },
  {
   "cell_type": "code",
   "execution_count": 15,
   "metadata": {},
   "outputs": [],
   "source": [
    "###### JET #####\n",
    "# LA\n",
    "LA_JET = MY_BBG.filter(regex=LA_JET)\n",
    "LA_JET_cols = LA_JET.columns.to_list()\n",
    "LA_JET_COLS = ['LA_JET_1','LA_JET_2','LA_JET_3']\n",
    "NEW_LA = dict(zip(LA_JET_cols, LA_JET_COLS))\n",
    "LA_JET.rename(columns=NEW_LA,inplace=True)\n",
    "LA_JET['M1_M2'] = LA_JET['LA_JET_1'] - LA_JET['LA_JET_2']\n",
    "LA_JET['M1_M3'] = LA_JET['LA_JET_1'] - LA_JET['LA_JET_3']\n",
    "LA_JET['M2_M3'] = LA_JET['LA_JET_2'] - LA_JET['LA_JET_3']"
   ]
  },
  {
   "cell_type": "code",
   "execution_count": 16,
   "metadata": {},
   "outputs": [],
   "source": [
    "###### JET - DISTY #####\n",
    "# la\n",
    "LA_SPRD = MY_BBG.filter(regex=LA_SPRD)\n",
    "LA_SPRD_cols = LA_SPRD.columns.to_list()\n",
    "LA_SPRD_cols = LA_SPRD.columns.to_list()\n",
    "LA_SPRD_COLS = ['LA_SPRD_1','LA_SPRD_2','LA_SPRD_3']\n",
    "NEW_LA = dict(zip(LA_SPRD_cols, LA_SPRD_COLS))\n",
    "LA_SPRD.rename(columns=NEW_LA,inplace=True)\n",
    "LA_SPRD['SP_M1_M2'] = LA_SPRD['LA_SPRD_1'] - LA_SPRD['LA_SPRD_2']\n",
    "LA_SPRD['SP_M1_M3'] = LA_SPRD['LA_SPRD_1'] - LA_SPRD['LA_SPRD_3']\n",
    "LA_SPRD['SP_M2_M3'] = LA_SPRD['LA_SPRD_2'] - LA_SPRD['LA_SPRD_3']\n",
    "# ny \n",
    "NY_SPRD = MY_BBG.filter(regex=NY_SPRD)\n",
    "NY_SPRD_cols = NY_SPRD.columns.to_list()\n",
    "NY_SPRD_COLS = ['NY_SPRD_1','NY_SPRD_2','NY_SPRD_3']\n",
    "NEW_NY = dict(zip(NY_SPRD_cols, NY_SPRD_COLS))\n",
    "NY_SPRD.rename(columns=NEW_NY,inplace=True)\n",
    "NY_SPRD['SP_M1_M2'] = NY_SPRD['NY_SPRD_1'] - NY_SPRD['NY_SPRD_2']\n",
    "NY_SPRD['SP_M1_M3'] = NY_SPRD['NY_SPRD_1'] - NY_SPRD['NY_SPRD_3']\n",
    "NY_SPRD['SP_M2_M3'] = NY_SPRD['NY_SPRD_2'] - NY_SPRD['NY_SPRD_3']\n",
    "# gc\n",
    "GC_SPRD = MY_BBG.filter(regex=GC_SPRD)\n",
    "GC_SPRD_cols = GC_SPRD.columns.to_list()\n",
    "GC_SPRD_COLS = ['GC_SPRD_1','GC_SPRD_2','GC_SPRD_3']\n",
    "NEW_GC = dict(zip(GC_SPRD_cols, GC_SPRD_COLS))\n",
    "GC_SPRD.rename(columns=NEW_GC,inplace=True)\n",
    "GC_SPRD['SP_M1_M2'] = GC_SPRD['GC_SPRD_1'] - GC_SPRD['GC_SPRD_2']\n",
    "GC_SPRD['SP_M1_M3'] = GC_SPRD['GC_SPRD_1'] - GC_SPRD['GC_SPRD_3']\n",
    "GC_SPRD['SP_M2_M3'] = GC_SPRD['GC_SPRD_2'] - GC_SPRD['GC_SPRD_3']"
   ]
  },
  {
   "cell_type": "code",
   "execution_count": 17,
   "metadata": {},
   "outputs": [],
   "source": [
    "######CRUDE #####\n",
    "CL = MY_BBG.filter(regex='CL')\n",
    "CL_cols = CL.columns.to_list()\n",
    "CL_COLS = ['CL_1','CL_2','CL_3']\n",
    "NEW_CL = dict(zip(CL_cols, CL_COLS))\n",
    "CL.rename(columns=NEW_CL,inplace=True)\n",
    "CL['CL_M1_M2'] = CL['CL_1'] - CL['CL_2']\n",
    "CL['CL_M1_M3'] = CL['CL_1'] - CL['CL_3']\n",
    "CL['CL_M2_M3'] = CL['CL_2'] - CL['CL_3']\n",
    "######DISTY #####\n",
    "HO = MY_BBG.filter(regex=\"HO\")\n",
    "HO_cols = HO.columns.to_list()\n",
    "HO_COLS = [\"HO_1\",\"HO_2\",\"HO_3\"]\n",
    "NEW_HO = dict(zip(HO_cols, HO_COLS))\n",
    "HO.rename(columns=NEW_HO,inplace=True)\n",
    "HO[\"HO_M1_M2\"] = HO[\"HO_1\"] - HO[\"HO_2\"]\n",
    "HO[\"HO_M1_M3\"] = HO[\"HO_1\"] - HO[\"HO_3\"]\n",
    "HO[\"HO_M2_M3\"] = HO[\"HO_2\"] - HO[\"HO_3\"]\n",
    "###### put it all together"
   ]
  },
  {
   "cell_type": "code",
   "execution_count": 18,
   "metadata": {},
   "outputs": [],
   "source": [
    "ALL_PRICES = pd.concat([LA_JET,GC_JET,NY_JET,LA_SPRD,GC_SPRD,NY_SPRD,CL,HO], axis=1)"
   ]
  },
  {
   "cell_type": "code",
   "execution_count": 19,
   "metadata": {},
   "outputs": [
    {
     "output_type": "execute_result",
     "data": {
      "text/plain": "             LA_JET_1  LA_JET_2  LA_JET_3  M1_M2  M1_M3  M2_M3  GC_JET_1  \\\nweek_ending                                                                \n2011-01-07     258.36    259.72    261.78  -1.36  -3.42  -2.06    254.54   \n2011-01-14     266.11    268.41    272.04  -2.30  -5.93  -3.63    262.47   \n2011-01-21     267.50    269.49    273.28  -1.99  -5.78  -3.79    265.68   \n2011-01-28     268.82    270.86    274.52  -2.04  -5.70  -3.66    266.45   \n2011-02-04     280.59    284.18    285.28  -3.59  -4.69  -1.10    277.86   \n\n             GC_JET_2  GC_JET_3  M1_M2  ...   CL_3  CL_M1_M2  CL_M1_M3  \\\nweek_ending                             ...                              \n2011-01-07     256.16    257.00  -1.62  ...  91.58     -1.12     -2.05   \n2011-01-14     263.77    264.36  -1.30  ...  93.11     -1.11     -2.08   \n2011-01-21     266.68    266.90  -1.00  ...  92.33     -1.04     -2.28   \n2011-01-28     267.57    268.01  -1.12  ...  91.09     -2.08     -3.82   \n2011-02-04     278.68    279.75  -0.82  ...  95.28     -2.63     -4.60   \n\n             CL_M2_M3    HO_1    HO_2    HO_3  HO_M1_M2  HO_M1_M3  HO_M2_M3  \nweek_ending                                                                  \n2011-01-07      -0.93  251.98  252.68  252.37     -0.70     -0.39      0.31  \n2011-01-14      -0.97  260.76  261.06  260.35     -0.30      0.41      0.71  \n2011-01-21      -1.24  264.40  264.72  263.66     -0.32      0.74      1.06  \n2011-01-28      -1.74  264.54  264.81  264.01     -0.27      0.53      0.80  \n2011-02-04      -1.97  275.37  275.12  275.02      0.25      0.35      0.10  \n\n[5 rows x 48 columns]",
      "text/html": "<div>\n<style scoped>\n    .dataframe tbody tr th:only-of-type {\n        vertical-align: middle;\n    }\n\n    .dataframe tbody tr th {\n        vertical-align: top;\n    }\n\n    .dataframe thead th {\n        text-align: right;\n    }\n</style>\n<table border=\"1\" class=\"dataframe\">\n  <thead>\n    <tr style=\"text-align: right;\">\n      <th></th>\n      <th>LA_JET_1</th>\n      <th>LA_JET_2</th>\n      <th>LA_JET_3</th>\n      <th>M1_M2</th>\n      <th>M1_M3</th>\n      <th>M2_M3</th>\n      <th>GC_JET_1</th>\n      <th>GC_JET_2</th>\n      <th>GC_JET_3</th>\n      <th>M1_M2</th>\n      <th>...</th>\n      <th>CL_3</th>\n      <th>CL_M1_M2</th>\n      <th>CL_M1_M3</th>\n      <th>CL_M2_M3</th>\n      <th>HO_1</th>\n      <th>HO_2</th>\n      <th>HO_3</th>\n      <th>HO_M1_M2</th>\n      <th>HO_M1_M3</th>\n      <th>HO_M2_M3</th>\n    </tr>\n    <tr>\n      <th>week_ending</th>\n      <th></th>\n      <th></th>\n      <th></th>\n      <th></th>\n      <th></th>\n      <th></th>\n      <th></th>\n      <th></th>\n      <th></th>\n      <th></th>\n      <th></th>\n      <th></th>\n      <th></th>\n      <th></th>\n      <th></th>\n      <th></th>\n      <th></th>\n      <th></th>\n      <th></th>\n      <th></th>\n      <th></th>\n    </tr>\n  </thead>\n  <tbody>\n    <tr>\n      <th>2011-01-07</th>\n      <td>258.36</td>\n      <td>259.72</td>\n      <td>261.78</td>\n      <td>-1.36</td>\n      <td>-3.42</td>\n      <td>-2.06</td>\n      <td>254.54</td>\n      <td>256.16</td>\n      <td>257.00</td>\n      <td>-1.62</td>\n      <td>...</td>\n      <td>91.58</td>\n      <td>-1.12</td>\n      <td>-2.05</td>\n      <td>-0.93</td>\n      <td>251.98</td>\n      <td>252.68</td>\n      <td>252.37</td>\n      <td>-0.70</td>\n      <td>-0.39</td>\n      <td>0.31</td>\n    </tr>\n    <tr>\n      <th>2011-01-14</th>\n      <td>266.11</td>\n      <td>268.41</td>\n      <td>272.04</td>\n      <td>-2.30</td>\n      <td>-5.93</td>\n      <td>-3.63</td>\n      <td>262.47</td>\n      <td>263.77</td>\n      <td>264.36</td>\n      <td>-1.30</td>\n      <td>...</td>\n      <td>93.11</td>\n      <td>-1.11</td>\n      <td>-2.08</td>\n      <td>-0.97</td>\n      <td>260.76</td>\n      <td>261.06</td>\n      <td>260.35</td>\n      <td>-0.30</td>\n      <td>0.41</td>\n      <td>0.71</td>\n    </tr>\n    <tr>\n      <th>2011-01-21</th>\n      <td>267.50</td>\n      <td>269.49</td>\n      <td>273.28</td>\n      <td>-1.99</td>\n      <td>-5.78</td>\n      <td>-3.79</td>\n      <td>265.68</td>\n      <td>266.68</td>\n      <td>266.90</td>\n      <td>-1.00</td>\n      <td>...</td>\n      <td>92.33</td>\n      <td>-1.04</td>\n      <td>-2.28</td>\n      <td>-1.24</td>\n      <td>264.40</td>\n      <td>264.72</td>\n      <td>263.66</td>\n      <td>-0.32</td>\n      <td>0.74</td>\n      <td>1.06</td>\n    </tr>\n    <tr>\n      <th>2011-01-28</th>\n      <td>268.82</td>\n      <td>270.86</td>\n      <td>274.52</td>\n      <td>-2.04</td>\n      <td>-5.70</td>\n      <td>-3.66</td>\n      <td>266.45</td>\n      <td>267.57</td>\n      <td>268.01</td>\n      <td>-1.12</td>\n      <td>...</td>\n      <td>91.09</td>\n      <td>-2.08</td>\n      <td>-3.82</td>\n      <td>-1.74</td>\n      <td>264.54</td>\n      <td>264.81</td>\n      <td>264.01</td>\n      <td>-0.27</td>\n      <td>0.53</td>\n      <td>0.80</td>\n    </tr>\n    <tr>\n      <th>2011-02-04</th>\n      <td>280.59</td>\n      <td>284.18</td>\n      <td>285.28</td>\n      <td>-3.59</td>\n      <td>-4.69</td>\n      <td>-1.10</td>\n      <td>277.86</td>\n      <td>278.68</td>\n      <td>279.75</td>\n      <td>-0.82</td>\n      <td>...</td>\n      <td>95.28</td>\n      <td>-2.63</td>\n      <td>-4.60</td>\n      <td>-1.97</td>\n      <td>275.37</td>\n      <td>275.12</td>\n      <td>275.02</td>\n      <td>0.25</td>\n      <td>0.35</td>\n      <td>0.10</td>\n    </tr>\n  </tbody>\n</table>\n<p>5 rows × 48 columns</p>\n</div>"
     },
     "metadata": {},
     "execution_count": 19
    }
   ],
   "source": [
    "ALL_PRICES.head()"
   ]
  },
  {
   "cell_type": "code",
   "execution_count": 22,
   "metadata": {},
   "outputs": [
    {
     "output_type": "execute_result",
     "data": {
      "text/plain": "             LA_JET_1  LA_JET_2  LA_JET_3  M1_M2  M1_M3  M2_M3  GC_JET_1  \\\nweek_ending                                                                \n2011-01-07     258.36    259.72    261.78  -1.36  -3.42  -2.06    254.54   \n2011-01-14     266.11    268.41    272.04  -2.30  -5.93  -3.63    262.47   \n2011-01-21     267.50    269.49    273.28  -1.99  -5.78  -3.79    265.68   \n2011-01-28     268.82    270.86    274.52  -2.04  -5.70  -3.66    266.45   \n2011-02-04     280.59    284.18    285.28  -3.59  -4.69  -1.10    277.86   \n\n             GC_JET_2  GC_JET_3  M1_M2  ...  CL_M2_M3    HO_1    HO_2    HO_3  \\\nweek_ending                             ...                                     \n2011-01-07     256.16    257.00  -1.62  ...     -0.93  251.98  252.68  252.37   \n2011-01-14     263.77    264.36  -1.30  ...     -0.97  260.76  261.06  260.35   \n2011-01-21     266.68    266.90  -1.00  ...     -1.24  264.40  264.72  263.66   \n2011-01-28     267.57    268.01  -1.12  ...     -1.74  264.54  264.81  264.01   \n2011-02-04     278.68    279.75  -0.82  ...     -1.97  275.37  275.12  275.02   \n\n             HO_M1_M2  HO_M1_M3  HO_M2_M3  LA_NY_1  LA_GC_1  NY_GC_1  \nweek_ending                                                           \n2011-01-07      -0.70     -0.39      0.31     3.82     3.82      0.0  \n2011-01-14      -0.30      0.41      0.71     3.64     3.64      0.0  \n2011-01-21      -0.32      0.74      1.06     1.82     1.82      0.0  \n2011-01-28      -0.27      0.53      0.80     2.37     2.37      0.0  \n2011-02-04       0.25      0.35      0.10     2.73     2.73      0.0  \n\n[5 rows x 51 columns]",
      "text/html": "<div>\n<style scoped>\n    .dataframe tbody tr th:only-of-type {\n        vertical-align: middle;\n    }\n\n    .dataframe tbody tr th {\n        vertical-align: top;\n    }\n\n    .dataframe thead th {\n        text-align: right;\n    }\n</style>\n<table border=\"1\" class=\"dataframe\">\n  <thead>\n    <tr style=\"text-align: right;\">\n      <th></th>\n      <th>LA_JET_1</th>\n      <th>LA_JET_2</th>\n      <th>LA_JET_3</th>\n      <th>M1_M2</th>\n      <th>M1_M3</th>\n      <th>M2_M3</th>\n      <th>GC_JET_1</th>\n      <th>GC_JET_2</th>\n      <th>GC_JET_3</th>\n      <th>M1_M2</th>\n      <th>...</th>\n      <th>CL_M2_M3</th>\n      <th>HO_1</th>\n      <th>HO_2</th>\n      <th>HO_3</th>\n      <th>HO_M1_M2</th>\n      <th>HO_M1_M3</th>\n      <th>HO_M2_M3</th>\n      <th>LA_NY_1</th>\n      <th>LA_GC_1</th>\n      <th>NY_GC_1</th>\n    </tr>\n    <tr>\n      <th>week_ending</th>\n      <th></th>\n      <th></th>\n      <th></th>\n      <th></th>\n      <th></th>\n      <th></th>\n      <th></th>\n      <th></th>\n      <th></th>\n      <th></th>\n      <th></th>\n      <th></th>\n      <th></th>\n      <th></th>\n      <th></th>\n      <th></th>\n      <th></th>\n      <th></th>\n      <th></th>\n      <th></th>\n      <th></th>\n    </tr>\n  </thead>\n  <tbody>\n    <tr>\n      <th>2011-01-07</th>\n      <td>258.36</td>\n      <td>259.72</td>\n      <td>261.78</td>\n      <td>-1.36</td>\n      <td>-3.42</td>\n      <td>-2.06</td>\n      <td>254.54</td>\n      <td>256.16</td>\n      <td>257.00</td>\n      <td>-1.62</td>\n      <td>...</td>\n      <td>-0.93</td>\n      <td>251.98</td>\n      <td>252.68</td>\n      <td>252.37</td>\n      <td>-0.70</td>\n      <td>-0.39</td>\n      <td>0.31</td>\n      <td>3.82</td>\n      <td>3.82</td>\n      <td>0.0</td>\n    </tr>\n    <tr>\n      <th>2011-01-14</th>\n      <td>266.11</td>\n      <td>268.41</td>\n      <td>272.04</td>\n      <td>-2.30</td>\n      <td>-5.93</td>\n      <td>-3.63</td>\n      <td>262.47</td>\n      <td>263.77</td>\n      <td>264.36</td>\n      <td>-1.30</td>\n      <td>...</td>\n      <td>-0.97</td>\n      <td>260.76</td>\n      <td>261.06</td>\n      <td>260.35</td>\n      <td>-0.30</td>\n      <td>0.41</td>\n      <td>0.71</td>\n      <td>3.64</td>\n      <td>3.64</td>\n      <td>0.0</td>\n    </tr>\n    <tr>\n      <th>2011-01-21</th>\n      <td>267.50</td>\n      <td>269.49</td>\n      <td>273.28</td>\n      <td>-1.99</td>\n      <td>-5.78</td>\n      <td>-3.79</td>\n      <td>265.68</td>\n      <td>266.68</td>\n      <td>266.90</td>\n      <td>-1.00</td>\n      <td>...</td>\n      <td>-1.24</td>\n      <td>264.40</td>\n      <td>264.72</td>\n      <td>263.66</td>\n      <td>-0.32</td>\n      <td>0.74</td>\n      <td>1.06</td>\n      <td>1.82</td>\n      <td>1.82</td>\n      <td>0.0</td>\n    </tr>\n    <tr>\n      <th>2011-01-28</th>\n      <td>268.82</td>\n      <td>270.86</td>\n      <td>274.52</td>\n      <td>-2.04</td>\n      <td>-5.70</td>\n      <td>-3.66</td>\n      <td>266.45</td>\n      <td>267.57</td>\n      <td>268.01</td>\n      <td>-1.12</td>\n      <td>...</td>\n      <td>-1.74</td>\n      <td>264.54</td>\n      <td>264.81</td>\n      <td>264.01</td>\n      <td>-0.27</td>\n      <td>0.53</td>\n      <td>0.80</td>\n      <td>2.37</td>\n      <td>2.37</td>\n      <td>0.0</td>\n    </tr>\n    <tr>\n      <th>2011-02-04</th>\n      <td>280.59</td>\n      <td>284.18</td>\n      <td>285.28</td>\n      <td>-3.59</td>\n      <td>-4.69</td>\n      <td>-1.10</td>\n      <td>277.86</td>\n      <td>278.68</td>\n      <td>279.75</td>\n      <td>-0.82</td>\n      <td>...</td>\n      <td>-1.97</td>\n      <td>275.37</td>\n      <td>275.12</td>\n      <td>275.02</td>\n      <td>0.25</td>\n      <td>0.35</td>\n      <td>0.10</td>\n      <td>2.73</td>\n      <td>2.73</td>\n      <td>0.0</td>\n    </tr>\n  </tbody>\n</table>\n<p>5 rows × 51 columns</p>\n</div>"
     },
     "metadata": {},
     "execution_count": 22
    }
   ],
   "source": [
    "ALL_PRICES['LA_NY_1'] = ALL_PRICES['LA_JET_1'] - ALL_PRICES['NY_JET_1']\n",
    "ALL_PRICES['LA_GC_1'] = ALL_PRICES['LA_JET_1'] - ALL_PRICES['GC_JET_1']\n",
    "ALL_PRICES['NY_GC_1'] = ALL_PRICES['NY_JET_1'] - ALL_PRICES['GC_JET_1']"
   ]
  },
  {
   "cell_type": "code",
   "execution_count": 23,
   "metadata": {},
   "outputs": [],
   "source": [
    "ALL_PRICES['LA_NY_2'] = ALL_PRICES['LA_JET_2'] - ALL_PRICES['NY_JET_2']\n",
    "ALL_PRICES['LA_GC_2'] = ALL_PRICES['LA_JET_2'] - ALL_PRICES['GC_JET_2']\n",
    "ALL_PRICES['NY_GC_2'] = ALL_PRICES['NY_JET_2'] - ALL_PRICES['GC_JET_2']"
   ]
  },
  {
   "cell_type": "code",
   "execution_count": 24,
   "metadata": {},
   "outputs": [],
   "source": [
    "ALL_PRICES['LA_NY_3'] = ALL_PRICES['LA_JET_3'] - ALL_PRICES['NY_JET_3']\n",
    "ALL_PRICES['LA_GC_3'] = ALL_PRICES['LA_JET_3'] - ALL_PRICES['GC_JET_3']\n",
    "ALL_PRICES['NY_GC_3'] = ALL_PRICES['NY_JET_3'] - ALL_PRICES['GC_JET_3']"
   ]
  },
  {
   "cell_type": "code",
   "execution_count": 25,
   "metadata": {},
   "outputs": [
    {
     "output_type": "execute_result",
     "data": {
      "text/plain": "             LA_JET_1  LA_JET_2  LA_JET_3  M1_M2  M1_M3  M2_M3  GC_JET_1  \\\nweek_ending                                                                \n2020-05-08      87.91     66.41     79.15  21.50   8.76 -12.74     60.77   \n2020-05-15      73.32     69.56     81.93   3.76  -8.61 -12.37     64.06   \n2020-05-22      88.50     81.57     93.77   6.93  -5.27 -12.20     86.24   \n2020-05-29      89.28     79.75     91.91   9.53  -2.63 -12.16     84.20   \n2020-06-05      97.72     97.70    100.10   0.02  -2.38  -2.40     93.82   \n\n             GC_JET_2  GC_JET_3  M1_M2  ...  HO_M2_M3  LA_NY_1  LA_GC_1  \\\nweek_ending                             ...                               \n2020-05-08      66.03     72.53  -5.26  ...     -4.03    20.14    27.14   \n2020-05-15      68.58     74.10  -4.52  ...     -3.53     0.48     9.26   \n2020-05-22      89.54     92.35  -3.30  ...     -3.40     2.00     2.26   \n2020-05-29      87.23     90.17  -3.03  ...     -3.46     4.36     5.08   \n2020-06-05      96.13     98.12  -2.31  ...     -2.72     2.93     3.90   \n\n             NY_GC_1  LA_NY_2  LA_GC_2  NY_GC_2  LA_NY_3  LA_GC_3  NY_GC_3  \nweek_ending                                                                 \n2020-05-08      7.00    -6.70     0.38     7.08     2.43     6.62     4.19  \n2020-05-15      8.78    -8.63     0.98     9.61     0.39     7.83     7.44  \n2020-05-22      0.26    -8.99    -7.97     1.02     0.05     1.42     1.37  \n2020-05-29      0.72    -8.89    -7.48     1.41     0.29     1.74     1.45  \n2020-06-05      0.97    -0.17     1.57     1.74    -0.16     1.98     2.14  \n\n[5 rows x 57 columns]",
      "text/html": "<div>\n<style scoped>\n    .dataframe tbody tr th:only-of-type {\n        vertical-align: middle;\n    }\n\n    .dataframe tbody tr th {\n        vertical-align: top;\n    }\n\n    .dataframe thead th {\n        text-align: right;\n    }\n</style>\n<table border=\"1\" class=\"dataframe\">\n  <thead>\n    <tr style=\"text-align: right;\">\n      <th></th>\n      <th>LA_JET_1</th>\n      <th>LA_JET_2</th>\n      <th>LA_JET_3</th>\n      <th>M1_M2</th>\n      <th>M1_M3</th>\n      <th>M2_M3</th>\n      <th>GC_JET_1</th>\n      <th>GC_JET_2</th>\n      <th>GC_JET_3</th>\n      <th>M1_M2</th>\n      <th>...</th>\n      <th>HO_M2_M3</th>\n      <th>LA_NY_1</th>\n      <th>LA_GC_1</th>\n      <th>NY_GC_1</th>\n      <th>LA_NY_2</th>\n      <th>LA_GC_2</th>\n      <th>NY_GC_2</th>\n      <th>LA_NY_3</th>\n      <th>LA_GC_3</th>\n      <th>NY_GC_3</th>\n    </tr>\n    <tr>\n      <th>week_ending</th>\n      <th></th>\n      <th></th>\n      <th></th>\n      <th></th>\n      <th></th>\n      <th></th>\n      <th></th>\n      <th></th>\n      <th></th>\n      <th></th>\n      <th></th>\n      <th></th>\n      <th></th>\n      <th></th>\n      <th></th>\n      <th></th>\n      <th></th>\n      <th></th>\n      <th></th>\n      <th></th>\n      <th></th>\n    </tr>\n  </thead>\n  <tbody>\n    <tr>\n      <th>2020-05-08</th>\n      <td>87.91</td>\n      <td>66.41</td>\n      <td>79.15</td>\n      <td>21.50</td>\n      <td>8.76</td>\n      <td>-12.74</td>\n      <td>60.77</td>\n      <td>66.03</td>\n      <td>72.53</td>\n      <td>-5.26</td>\n      <td>...</td>\n      <td>-4.03</td>\n      <td>20.14</td>\n      <td>27.14</td>\n      <td>7.00</td>\n      <td>-6.70</td>\n      <td>0.38</td>\n      <td>7.08</td>\n      <td>2.43</td>\n      <td>6.62</td>\n      <td>4.19</td>\n    </tr>\n    <tr>\n      <th>2020-05-15</th>\n      <td>73.32</td>\n      <td>69.56</td>\n      <td>81.93</td>\n      <td>3.76</td>\n      <td>-8.61</td>\n      <td>-12.37</td>\n      <td>64.06</td>\n      <td>68.58</td>\n      <td>74.10</td>\n      <td>-4.52</td>\n      <td>...</td>\n      <td>-3.53</td>\n      <td>0.48</td>\n      <td>9.26</td>\n      <td>8.78</td>\n      <td>-8.63</td>\n      <td>0.98</td>\n      <td>9.61</td>\n      <td>0.39</td>\n      <td>7.83</td>\n      <td>7.44</td>\n    </tr>\n    <tr>\n      <th>2020-05-22</th>\n      <td>88.50</td>\n      <td>81.57</td>\n      <td>93.77</td>\n      <td>6.93</td>\n      <td>-5.27</td>\n      <td>-12.20</td>\n      <td>86.24</td>\n      <td>89.54</td>\n      <td>92.35</td>\n      <td>-3.30</td>\n      <td>...</td>\n      <td>-3.40</td>\n      <td>2.00</td>\n      <td>2.26</td>\n      <td>0.26</td>\n      <td>-8.99</td>\n      <td>-7.97</td>\n      <td>1.02</td>\n      <td>0.05</td>\n      <td>1.42</td>\n      <td>1.37</td>\n    </tr>\n    <tr>\n      <th>2020-05-29</th>\n      <td>89.28</td>\n      <td>79.75</td>\n      <td>91.91</td>\n      <td>9.53</td>\n      <td>-2.63</td>\n      <td>-12.16</td>\n      <td>84.20</td>\n      <td>87.23</td>\n      <td>90.17</td>\n      <td>-3.03</td>\n      <td>...</td>\n      <td>-3.46</td>\n      <td>4.36</td>\n      <td>5.08</td>\n      <td>0.72</td>\n      <td>-8.89</td>\n      <td>-7.48</td>\n      <td>1.41</td>\n      <td>0.29</td>\n      <td>1.74</td>\n      <td>1.45</td>\n    </tr>\n    <tr>\n      <th>2020-06-05</th>\n      <td>97.72</td>\n      <td>97.70</td>\n      <td>100.10</td>\n      <td>0.02</td>\n      <td>-2.38</td>\n      <td>-2.40</td>\n      <td>93.82</td>\n      <td>96.13</td>\n      <td>98.12</td>\n      <td>-2.31</td>\n      <td>...</td>\n      <td>-2.72</td>\n      <td>2.93</td>\n      <td>3.90</td>\n      <td>0.97</td>\n      <td>-0.17</td>\n      <td>1.57</td>\n      <td>1.74</td>\n      <td>-0.16</td>\n      <td>1.98</td>\n      <td>2.14</td>\n    </tr>\n  </tbody>\n</table>\n<p>5 rows × 57 columns</p>\n</div>"
     },
     "metadata": {},
     "execution_count": 25
    }
   ],
   "source": [
    "ALL_PRICES.tail()"
   ]
  },
  {
   "cell_type": "code",
   "execution_count": 27,
   "metadata": {},
   "outputs": [],
   "source": [
    "ALL_PRICES.to_csv('prices_spreads.csv')"
   ]
  },
  {
   "cell_type": "code",
   "execution_count": null,
   "metadata": {},
   "outputs": [],
   "source": [
    "##### here we \"AIMED\" to change the headers back to usual\n",
    "m1.rename(columns=lambda x: x[0:5], inplace=True)\n",
    "m2.rename(columns=lambda x: x[0:5], inplace=True)\n",
    "m3.rename(columns=lambda x: x[0:5], inplace=True)\n",
    "spread_m1_m2 = m1.subtract(m2)          \n",
    "spread_m1_m3 = m1.subtract(m3)\n",
    "spread_m2_m3 = m2.subtract(m3)\n",
    "bbg_my_sub1 = bbg_my[['short_name']]\n",
    "bbg_my_sub2 = bbg_my[['long_name']]\n",
    "bbg_my_sub3 = bbg_my[['unit']]\n",
    "# nng_my_sub['ticker'] = MY_BBG.index\n",
    "short_name_dict = dict(zip(bbg_my_sub1.index, bbg_my_sub1.short_name))\n",
    "long_name_dict = dict(zip(bbg_my_sub2.index, bbg_my_sub2.long_name))\n",
    "unit_name_dict = dict(zip(bbg_my_sub3.index, bbg_my_sub3.unit))\n",
    "\n",
    "# GET each subset's keys too so can replace\n",
    "keys_to_extract = m1_cols\n",
    "m1_dict_s = {key: short_name_dict[key] for key in keys_to_extract}\n",
    "m1_dict_l = {key: long_name_dict[key] for key in keys_to_extract}\n",
    "m1_dict_u = {key: unit_name_dict[key] for key in keys_to_extract}"
   ]
  },
  {
   "cell_type": "code",
   "execution_count": null,
   "metadata": {},
   "outputs": [],
   "source": [
    "spread_m1_m2 = m1.subtract(m2)          \n",
    "spread_m1_m3 = m1.subtract(m3)\n",
    "spread_m2_m3 = m2.subtract(m3)\n",
    "bbg_my_sub1 = bbg_my[['short_name']]\n",
    "bbg_my_sub2 = bbg_my[['long_name']]\n",
    "bbg_my_sub3 = bbg_my[['unit']]\n",
    "# nng_my_sub['ticker'] = MY_BBG.index\n",
    "short_name_dict = dict(zip(bbg_my_sub1.index, bbg_my_sub1.short_name))\n",
    "long_name_dict = dict(zip(bbg_my_sub2.index, bbg_my_sub2.long_name))\n",
    "unit_name_dict = dict(zip(bbg_my_sub3.index, bbg_my_sub3.unit))\n",
    "# GET each subset's keys too so can replace\n",
    "keys_to_extract = m1_cols\n",
    "m1_dict_s = {key: short_name_dict[key] for key in keys_to_extract}\n",
    "m1_dict_l = {key: long_name_dict[key] for key in keys_to_extract}\n",
    "m1_dict_u = {key: unit_name_dict[key] for key in keys_to_extract}\n",
    "# need to pick the subset of each month and create a dict"
   ]
  },
  {
   "cell_type": "code",
   "execution_count": null,
   "metadata": {},
   "outputs": [],
   "source": [
    "# m1.rename(columns=m1_dict_l, inplace=True) keep this\n",
    "# m1.rename(columns=lambda x: x[0:5], inplace=True)\n",
    "# m2.rename(columns=lambda x: x[0:5], inplace=True)\n",
    "# m3.rename(columns=lambda x: x[0:5], inplace=True)"
   ]
  }
 ],
 "metadata": {
  "language_info": {
   "codemirror_mode": {
    "name": "ipython",
    "version": 3
   },
   "file_extension": ".py",
   "mimetype": "text/x-python",
   "name": "python",
   "nbconvert_exporter": "python",
   "pygments_lexer": "ipython3",
   "version": "3.7.6-final"
  },
  "orig_nbformat": 2,
  "kernelspec": {
   "name": "python3",
   "display_name": "Python 3"
  }
 },
 "nbformat": 4,
 "nbformat_minor": 2
}